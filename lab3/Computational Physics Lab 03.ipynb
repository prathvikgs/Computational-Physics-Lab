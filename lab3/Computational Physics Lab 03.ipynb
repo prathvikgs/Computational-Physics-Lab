{
 "cells": [
  {
   "cell_type": "markdown",
   "id": "d4c541e0",
   "metadata": {},
   "source": [
    "# $$Computational Lab 3$$"
   ]
  },
  {
   "cell_type": "code",
   "execution_count": 65,
   "id": "4ca47269",
   "metadata": {},
   "outputs": [],
   "source": [
    "import numpy as np\n",
    "import pandas as pd\n",
    "import matplotlib.pyplot as plt"
   ]
  },
  {
   "cell_type": "markdown",
   "id": "72770cc6",
   "metadata": {},
   "source": [
    "# **Root finding 2- Newton Rapson**\n",
    "Solve the equation $f(x)= x^3 -0.165x^2+3.993*10^{-4}$\n",
    "using Newton-Raphson methodfor a given error limit of e = 0.0001."
   ]
  },
  {
   "cell_type": "code",
   "execution_count": 66,
   "id": "0396c111",
   "metadata": {},
   "outputs": [],
   "source": [
    "def func(x):\n",
    "    return x**3 - 0.165*x**2 + 3.993*1e-4\n",
    "\n",
    "def derivative(x):\n",
    "    return (3*x**2 - 0.165*x*2)\n",
    "\n",
    "def newton_rapson(f,guess,error):\n",
    "    x=guess\n",
    "    x_old=x+10\n",
    "    \n",
    "    while(abs(x_old-x) >error):\n",
    "        \n",
    "        if(derivative(x)==0):\n",
    "            return 'Derivative is 0, so choose another guess'\n",
    "        x_old=x\n",
    "        x=x-f(x)/derivative(x)\n",
    "    return x\n",
    "\n",
    "def recursive_newton_rapson(f,guess,error):\n",
    "    x=guess\n",
    "    if(derivative(x)==0):\n",
    "        return 'Take a new guess,derivative is 0'\n",
    "    if (abs(f(x))<error):\n",
    "        return x\n",
    "    return recursive_newton_rapson(f,x-f(x)/derivative(x),error)"
   ]
  },
  {
   "cell_type": "markdown",
   "id": "e11bb628",
   "metadata": {},
   "source": [
    "**1) Intial guess of x= 0.05**"
   ]
  },
  {
   "cell_type": "code",
   "execution_count": 67,
   "id": "1fad57a9",
   "metadata": {},
   "outputs": [
    {
     "data": {
      "text/plain": [
       "0.062377576543465846"
      ]
     },
     "execution_count": 67,
     "metadata": {},
     "output_type": "execute_result"
    }
   ],
   "source": [
    "newton_rapson(func,0.05,1e-4)"
   ]
  },
  {
   "cell_type": "code",
   "execution_count": 68,
   "id": "f21454f2",
   "metadata": {},
   "outputs": [
    {
     "data": {
      "text/plain": [
       "0.06242222222222221"
      ]
     },
     "execution_count": 68,
     "metadata": {},
     "output_type": "execute_result"
    }
   ],
   "source": [
    "recursive_newton_rapson(func,0.05,1e-4)"
   ]
  },
  {
   "cell_type": "markdown",
   "id": "934580db",
   "metadata": {},
   "source": [
    "**2) Initial Guess is x= 0.11**"
   ]
  },
  {
   "cell_type": "code",
   "execution_count": 69,
   "id": "14ae4449",
   "metadata": {},
   "outputs": [
    {
     "data": {
      "text/plain": [
       "'Derivative is 0, so choose another guess'"
      ]
     },
     "execution_count": 69,
     "metadata": {},
     "output_type": "execute_result"
    }
   ],
   "source": [
    "newton_rapson(func,0.11,1e-4)"
   ]
  },
  {
   "cell_type": "code",
   "execution_count": 70,
   "id": "19fe27d4",
   "metadata": {},
   "outputs": [
    {
     "data": {
      "text/plain": [
       "'Take a new guess,derivative is 0'"
      ]
     },
     "execution_count": 70,
     "metadata": {},
     "output_type": "execute_result"
    }
   ],
   "source": [
    "recursive_newton_rapson(func,0.11,1e-4)"
   ]
  },
  {
   "cell_type": "code",
   "execution_count": 71,
   "id": "f5833e55",
   "metadata": {},
   "outputs": [],
   "source": [
    "x=np.arange(-0.1,0.2,1e-3)\n",
    "y=func(x)"
   ]
  },
  {
   "cell_type": "code",
   "execution_count": 72,
   "id": "fc979c41",
   "metadata": {},
   "outputs": [
    {
     "name": "stdout",
     "output_type": "stream",
     "text": [
      "The derivative at x=0.11 is 0.0\n"
     ]
    },
    {
     "data": {
      "image/png": "[encoded data removed]",
      "text/plain": [
       "<Figure size 432x288 with 1 Axes>"
      ]
     },
     "metadata": {
      "needs_background": "light"
     },
     "output_type": "display_data"
    }
   ],
   "source": [
    "plt.plot(x,y)\n",
    "plt.scatter([0.11,0],[func(0.11),func(0)],color='red')\n",
    "plt.grid()\n",
    "print(f\"The derivative at x=0.11 is {derivative(0.11)}\")"
   ]
  },
  {
   "cell_type": "markdown",
   "id": "285a8d5d",
   "metadata": {},
   "source": [
    "The second guess does not offer any solution because the derivatie is 0 at x=0.11 as we can see, so we have to take another guess"
   ]
  },
  {
   "cell_type": "markdown",
   "id": "c7ef5195",
   "metadata": {},
   "source": [
    "**3) Yes we can find another initial guess which does not lead to any solution, it is where func'(x)=0 i.e where the derivative of the function is 0 which is at x=0**"
   ]
  },
  {
   "cell_type": "code",
   "execution_count": 73,
   "id": "a60b4b7e",
   "metadata": {},
   "outputs": [
    {
     "name": "stdout",
     "output_type": "stream",
     "text": [
      "The derivative of the function at x=0 is 0.0\n"
     ]
    }
   ],
   "source": [
    "print(f\"The derivative of the function at x=0 is {derivative(0)}\")"
   ]
  },
  {
   "cell_type": "markdown",
   "id": "009e651f",
   "metadata": {},
   "source": [
    "**4) Plotting number of steps vs error**"
   ]
  },
  {
   "cell_type": "code",
   "execution_count": 74,
   "id": "3d4bfecd",
   "metadata": {},
   "outputs": [],
   "source": [
    "def newton_rapson_steps(f,guess,error):\n",
    "    x=guess\n",
    "    x_old=x+10\n",
    "    steps=0\n",
    "    while(abs(x_old-x) >error):\n",
    "        \n",
    "        if(derivative(x)==0):\n",
    "            return 'Derivative is 0, so choose another guess'\n",
    "        steps+=1\n",
    "        x_old=x\n",
    "        x=x- f(x)/derivative(x)\n",
    "    return x,steps"
   ]
  },
  {
   "cell_type": "code",
   "execution_count": 88,
   "id": "b0800a12",
   "metadata": {},
   "outputs": [
    {
     "data": {
      "text/plain": [
       "Text(0, 0.5, 'Number of steps')"
      ]
     },
     "execution_count": 88,
     "metadata": {},
     "output_type": "execute_result"
    },
    {
     "data": {
      "image/png": "[encoded data removed]",
      "text/plain": [
       "<Figure size 432x288 with 1 Axes>"
      ]
     },
     "metadata": {
      "needs_background": "light"
     },
     "output_type": "display_data"
    }
   ],
   "source": [
    "steps=[]\n",
    "e=[]\n",
    "for i in range (10):\n",
    "    error=10**(-i)\n",
    "    e.append(error)\n",
    "    x,step=newton_rapson_steps(func,0.05,error)\n",
    "    steps.append(step)\n",
    "    \n",
    "plt.plot(e,steps)\n",
    "plt.xscale('log')\n",
    "plt.xlabel('Error')\n",
    "plt.ylabel('Number of steps')"
   ]
  },
  {
   "cell_type": "markdown",
   "id": "822c3767",
   "metadata": {},
   "source": [
    "We can see that as the error increases, the number of steps required for convergence decreases"
   ]
  },
  {
   "cell_type": "markdown",
   "id": "98bb9b64",
   "metadata": {},
   "source": [
    "# **Finding reciprocal of a number by newton rapson**"
   ]
  },
  {
   "cell_type": "markdown",
   "id": "3682edb0",
   "metadata": {},
   "source": [
    "**a) Code to find the reciprocal of a number by newton rapson method in given number of iterations (50) here**"
   ]
  },
  {
   "cell_type": "markdown",
   "id": "5ad65da3",
   "metadata": {},
   "source": [
    "finding the reciprocal of a"
   ]
  },
  {
   "cell_type": "code",
   "execution_count": 76,
   "id": "02628787",
   "metadata": {},
   "outputs": [],
   "source": [
    "def f1(x,a):\n",
    "    return (1/x) - a\n",
    "\n",
    "def der_f(x):\n",
    "    return -1/(x**2)"
   ]
  },
  {
   "cell_type": "code",
   "execution_count": 77,
   "id": "c2718e8e",
   "metadata": {},
   "outputs": [],
   "source": [
    "def newton_rapson2(a,guess,n):\n",
    "    \n",
    "    x=guess\n",
    "    for i in range(n):\n",
    "        x=x-f1(x,a)/der_f(x)\n",
    "        \n",
    "    return x"
   ]
  },
  {
   "cell_type": "code",
   "execution_count": 78,
   "id": "53eddd35",
   "metadata": {},
   "outputs": [
    {
     "data": {
      "text/plain": [
       "0.09090909090909091"
      ]
     },
     "execution_count": 78,
     "metadata": {},
     "output_type": "execute_result"
    }
   ],
   "source": [
    "a=11\n",
    "iterations=50\n",
    "guess=0.001\n",
    "\n",
    "newton_rapson2(a,guess,iterations)"
   ]
  },
  {
   "cell_type": "markdown",
   "id": "c83fa1f9",
   "metadata": {},
   "source": [
    "*b) error propogation as a function of the number of iterations*"
   ]
  },
  {
   "cell_type": "code",
   "execution_count": 79,
   "id": "78416395",
   "metadata": {},
   "outputs": [],
   "source": [
    "error=[]\n",
    "iterations=[]\n",
    "for i in range(20):\n",
    "    error.append(abs(newton_rapson2(10,0.001,i)-0.1))\n",
    "    iterations.append(i)\n",
    "    "
   ]
  },
  {
   "cell_type": "code",
   "execution_count": 80,
   "id": "f0145578",
   "metadata": {},
   "outputs": [
    {
     "data": {
      "text/plain": [
       "Text(0, 0.5, 'Error')"
      ]
     },
     "execution_count": 80,
     "metadata": {},
     "output_type": "execute_result"
    },
    {
     "data": {
      "image/png": "[encoded data removed]",
      "text/plain": [
       "<Figure size 432x288 with 1 Axes>"
      ]
     },
     "metadata": {
      "needs_background": "light"
     },
     "output_type": "display_data"
    }
   ],
   "source": [
    "plt.plot(iterations,error)\n",
    "plt.xlabel('No of iterations')\n",
    "plt.ylabel('Error')"
   ]
  },
  {
   "cell_type": "markdown",
   "id": "606c61ad",
   "metadata": {},
   "source": [
    "We can see that with increasing number of iterations the error decreases"
   ]
  },
  {
   "cell_type": "markdown",
   "id": "ac6d4038",
   "metadata": {},
   "source": [
    "# Diagonal dominance of matrix"
   ]
  },
  {
   "cell_type": "code",
   "execution_count": 81,
   "id": "208b0ad7",
   "metadata": {},
   "outputs": [],
   "source": [
    "A=np.array([[-6,2,1,2,1],[3,8,-4,1,0],[-1,1,4,10,1],[3,-4,1,9,2],[2,0,1,3,10]])"
   ]
  },
  {
   "cell_type": "code",
   "execution_count": 82,
   "id": "a8d6c7e9",
   "metadata": {},
   "outputs": [],
   "source": [
    "B=np.array([[18,3,6,-2],[9,13,-5,2],[-3,-2,4,9],[6,0,11,3]])"
   ]
  },
  {
   "cell_type": "code",
   "execution_count": 83,
   "id": "980b68c9",
   "metadata": {},
   "outputs": [],
   "source": [
    "def dominant(a):\n",
    "    m,n=np.shape(a)\n",
    "    flag=0\n",
    "    for i in range(m):\n",
    "        if((np.sum(abs(a[i]))-abs(a[i][i]))>abs(a[i][i])):\n",
    "            print(f\"Not strictly diagonally dominant on row {i+1}\")\n",
    "            flag=-1\n",
    "      \n",
    "    if(flag==0):\n",
    "        return 'Dominant row'\n",
    "        "
   ]
  },
  {
   "cell_type": "code",
   "execution_count": 84,
   "id": "dc16526a",
   "metadata": {},
   "outputs": [
    {
     "name": "stdout",
     "output_type": "stream",
     "text": [
      "Not strictly diagonally dominant on row 3\n",
      "Not strictly diagonally dominant on row 4\n"
     ]
    }
   ],
   "source": [
    "dominant(A)"
   ]
  },
  {
   "cell_type": "code",
   "execution_count": 89,
   "id": "02478ddd",
   "metadata": {},
   "outputs": [
    {
     "name": "stdout",
     "output_type": "stream",
     "text": [
      "Not strictly diagonally dominant on row 2\n",
      "Not strictly diagonally dominant on row 3\n",
      "Not strictly diagonally dominant on row 4\n"
     ]
    }
   ],
   "source": [
    "dominant(B)"
   ]
  },
  {
   "cell_type": "code",
   "execution_count": null,
   "id": "3c9ee72d",
   "metadata": {},
   "outputs": [],
   "source": []
  }
 ],
 "metadata": {
  "kernelspec": {
   "display_name": "Python 3 (ipykernel)",
   "language": "python",
   "name": "python3"
  },
  "language_info": {
   "codemirror_mode": {
    "name": "ipython",
    "version": 3
   },
   "file_extension": ".py",
   "mimetype": "text/x-python",
   "name": "python",
   "nbconvert_exporter": "python",
   "pygments_lexer": "ipython3",
   "version": "3.9.12"
  }
 },
 "nbformat": 4,
 "nbformat_minor": 5
}
