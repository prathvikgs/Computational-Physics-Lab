{
 "cells": [
  {
   "cell_type": "markdown",
   "id": "7f4d60dc",
   "metadata": {},
   "source": [
    "# Computational Physics  Lab-1"
   ]
  },
  {
   "cell_type": "code",
   "execution_count": 1,
   "id": "7825926e",
   "metadata": {},
   "outputs": [],
   "source": [
    "import numpy as np\n",
    "import matplotlib.pyplot as plt\n"
   ]
  },
  {
   "cell_type": "markdown",
   "id": "161279b5",
   "metadata": {},
   "source": [
    "**Problem 1**<br><br>\n",
    "*Determining the computer epsilon I am using<br>\n",
    "what is it?<br>\n",
    "solove it (using while and for loops)<br>\n",
    "plot<br>*\n"
   ]
  },
  {
   "cell_type": "code",
   "execution_count": 2,
   "id": "4929d520",
   "metadata": {},
   "outputs": [
    {
     "name": "stdout",
     "output_type": "stream",
     "text": [
      "The number iterations taken is 52\n",
      "Computer Epsilon is 2.220446049250313e-16\n"
     ]
    }
   ],
   "source": [
    "\n",
    "t=0\n",
    "s=1.0\n",
    "i=0\n",
    "while(t!=1):\n",
    "    i+=1\n",
    "    s=0.5*s\n",
    "    t=s+1\n",
    "    if(t==1):\n",
    "        s=2.0*s\n",
    "        print(f\"The number iterations taken is {i-1}\\nComputer Epsilon is {s}\")\n",
    "        break\n",
    "    "
   ]
  },
  {
   "cell_type": "markdown",
   "id": "c377fb8c",
   "metadata": {},
   "source": [
    "**Cross checking with the inbuilt function for computer epsilon**"
   ]
  },
  {
   "cell_type": "code",
   "execution_count": 3,
   "id": "00140c2d",
   "metadata": {},
   "outputs": [
    {
     "data": {
      "text/plain": [
       "2.220446049250313e-16"
      ]
     },
     "execution_count": 3,
     "metadata": {},
     "output_type": "execute_result"
    }
   ],
   "source": [
    "import sys\n",
    "sys.float_info.epsilon"
   ]
  },
  {
   "cell_type": "code",
   "execution_count": 4,
   "id": "a451214e",
   "metadata": {},
   "outputs": [
    {
     "data": {
      "text/plain": [
       "Text(0, 0.5, 'a')"
      ]
     },
     "execution_count": 4,
     "metadata": {},
     "output_type": "execute_result"
    },
    {
     "data": {
      "image/png": "[encoded data removed]",
      "text/plain": [
       "<Figure size 432x288 with 1 Axes>"
      ]
     },
     "metadata": {
      "needs_background": "light"
     },
     "output_type": "display_data"
    }
   ],
   "source": [
    "n=np.arange(100)\n",
    "y=1+(1/2)**n\n",
    "plt.plot(n,y)\n",
    "plt.xlabel('n')\n",
    "plt.ylabel('a')"
   ]
  },
  {
   "cell_type": "markdown",
   "id": "8836afbe",
   "metadata": {},
   "source": [
    "Plotting in log-log scale"
   ]
  },
  {
   "cell_type": "code",
   "execution_count": 5,
   "id": "f0d28abc",
   "metadata": {},
   "outputs": [
    {
     "data": {
      "text/plain": [
       "Text(0, 0.5, 'a-1')"
      ]
     },
     "execution_count": 5,
     "metadata": {},
     "output_type": "execute_result"
    },
    {
     "data": {
      "image/png": "[encoded data removed]",
      "text/plain": [
       "<Figure size 432x288 with 1 Axes>"
      ]
     },
     "metadata": {
      "needs_background": "light"
     },
     "output_type": "display_data"
    }
   ],
   "source": [
    "plt.plot(n,y-1)\n",
    "plt.xscale('log')\n",
    "plt.yscale('log')\n",
    "plt.xlabel('n')\n",
    "plt.ylabel('a-1')"
   ]
  },
  {
   "cell_type": "markdown",
   "id": "33e5c2ef",
   "metadata": {},
   "source": [
    "**Problem 2**<br><br>\n",
    "*Evaluating the same expression in 2 different forms to know the rounding errors in computation*\n"
   ]
  },
  {
   "cell_type": "code",
   "execution_count": 6,
   "id": "cd07e252",
   "metadata": {},
   "outputs": [
    {
     "data": {
      "image/png": "[encoded data removed]",
      "text/plain": [
       "<Figure size 432x288 with 1 Axes>"
      ]
     },
     "metadata": {
      "needs_background": "light"
     },
     "output_type": "display_data"
    }
   ],
   "source": [
    "def f1(x):\n",
    "    return ((x**2+1)**0.5 - 1)\n",
    "\n",
    "def f2(x):\n",
    "    return ((x**2)/(((x**2+1)**0.5)+1))\n",
    "\n",
    "x=np.arange(0,10,0.1)\n",
    "frac_dev=[]\n",
    "k=[]\n",
    "for i in range(20):\n",
    "    x=10**(-i)\n",
    "    dev=abs((f1(x)-f2(x))/f2(x))\n",
    "    frac_dev.append(dev)\n",
    "    k.append(x)\n",
    "    \n",
    "\n",
    "plt.plot(k,frac_dev)\n",
    "plt.xlabel('x')\n",
    "plt.ylabel('Deviation')\n",
    "plt.axvline(x=1e-8,color='orange')\n",
    "plt.xscale('log')\n",
    "plt.yscale('log')"
   ]
  },
  {
   "cell_type": "code",
   "execution_count": 7,
   "id": "47c14c2e",
   "metadata": {},
   "outputs": [],
   "source": [
    "x=[]\n",
    "y1=[]\n",
    "y2=[]\n",
    "for i in range (7):\n",
    "    xt=10**(-8-i)\n",
    "    x.append(xt)\n",
    "    y1.append(f1(xt))\n",
    "    y2.append(f2(xt))\n",
    "    "
   ]
  },
  {
   "cell_type": "code",
   "execution_count": 8,
   "id": "fbf7f6dc",
   "metadata": {},
   "outputs": [
    {
     "name": "stdout",
     "output_type": "stream",
     "text": [
      "[0.0, 0.0, 0.0, 0.0, 0.0, 0.0, 0.0]\n"
     ]
    }
   ],
   "source": [
    "print(y1)"
   ]
  },
  {
   "cell_type": "code",
   "execution_count": 9,
   "id": "9533d654",
   "metadata": {},
   "outputs": [
    {
     "name": "stdout",
     "output_type": "stream",
     "text": [
      "[5.0000000000000005e-17, 5e-19, 5.0000000000000005e-21, 4.9999999999999997e-23, 5e-25, 5e-27, 5e-29]\n"
     ]
    }
   ],
   "source": [
    "print(y2)"
   ]
  },
  {
   "cell_type": "markdown",
   "id": "912f8666",
   "metadata": {},
   "source": [
    "**We can see that the second method to be superior as the first function rounds off to 0 for small x,this happens because in the first method we are calculating the root which induces error**"
   ]
  },
  {
   "cell_type": "code",
   "execution_count": 10,
   "id": "ca567533",
   "metadata": {},
   "outputs": [
    {
     "data": {
      "text/plain": [
       "<matplotlib.legend.Legend at 0x1c96ef1f580>"
      ]
     },
     "execution_count": 10,
     "metadata": {},
     "output_type": "execute_result"
    },
    {
     "data": {
      "image/png": "[encoded data removed]",
      "text/plain": [
       "<Figure size 432x288 with 1 Axes>"
      ]
     },
     "metadata": {
      "needs_background": "light"
     },
     "output_type": "display_data"
    }
   ],
   "source": [
    "plt.plot(x,y1,label=\"f1(x)\")\n",
    "plt.plot(x,y2,label='f2(x)')\n",
    "\n",
    "plt.legend()"
   ]
  },
  {
   "cell_type": "code",
   "execution_count": null,
   "id": "07bb07b8",
   "metadata": {},
   "outputs": [],
   "source": []
  },
  {
   "cell_type": "code",
   "execution_count": null,
   "id": "9e30422b",
   "metadata": {},
   "outputs": [],
   "source": []
  }
 ],
 "metadata": {
  "kernelspec": {
   "display_name": "Python 3 (ipykernel)",
   "language": "python",
   "name": "python3"
  },
  "language_info": {
   "codemirror_mode": {
    "name": "ipython",
    "version": 3
   },
   "file_extension": ".py",
   "mimetype": "text/x-python",
   "name": "python",
   "nbconvert_exporter": "python",
   "pygments_lexer": "ipython3",
   "version": "3.9.12"
  },
  "vscode": {
   "interpreter": {
    "hash": "07ade7d6ae30fdad6cb80c428e01b0a8d227d4a4544ace75e5dd78ba6fffdd17"
   }
  }
 },
 "nbformat": 4,
 "nbformat_minor": 5
}
