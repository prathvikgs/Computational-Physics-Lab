{
 "cells": [
  {
   "cell_type": "markdown",
   "id": "94baa373",
   "metadata": {},
   "source": [
    "## $$Computational Physics Lab-5$$"
   ]
  },
  {
   "cell_type": "code",
   "execution_count": 1,
   "id": "1cbead55",
   "metadata": {},
   "outputs": [],
   "source": [
    "import numpy as np\n",
    "import matplotlib.pyplot as plt"
   ]
  },
  {
   "cell_type": "markdown",
   "id": "5a2c4f91",
   "metadata": {},
   "source": [
    "# **Numerical Integration 1**"
   ]
  },
  {
   "cell_type": "markdown",
   "id": "cfa02741",
   "metadata": {},
   "source": [
    " Plot and integrate the tabulated data given below by a suitable method. Take the end points of the table as integration limits"
   ]
  },
  {
   "cell_type": "code",
   "execution_count": 2,
   "id": "7fca5a04",
   "metadata": {},
   "outputs": [],
   "source": [
    "def trap_int(y,x,a,b):\n",
    "    s=0\n",
    "    n=len(y)\n",
    "    for i in range(n-1):\n",
    "        s+=0.5*(y[i+1]+y[i])*(x[i+1]-x[i])\n",
    "    \n",
    "    return s"
   ]
  },
  {
   "cell_type": "code",
   "execution_count": 3,
   "id": "1a8d2ec3",
   "metadata": {},
   "outputs": [],
   "source": [
    "y=np.array([1.5,2.3,2.3,2.4,2.5,3.2,4.9,4.7,3.4,7.8,17.1])\n",
    "x=np.array([1.34,1.46,1.52,1.6,1.87,2.03,2.18,2.8,3.2,3.8,4.15])"
   ]
  },
  {
   "cell_type": "code",
   "execution_count": 4,
   "id": "bd27eb85",
   "metadata": {},
   "outputs": [
    {
     "data": {
      "text/plain": [
       "14.592500000000005"
      ]
     },
     "execution_count": 4,
     "metadata": {},
     "output_type": "execute_result"
    }
   ],
   "source": [
    "trap_int(y,x,x[0],x[len(x)-1])"
   ]
  },
  {
   "cell_type": "code",
   "execution_count": 5,
   "id": "ec7ba07c",
   "metadata": {},
   "outputs": [
    {
     "data": {
      "text/plain": [
       "Text(0, 0.5, 'f (x)')"
      ]
     },
     "execution_count": 5,
     "metadata": {},
     "output_type": "execute_result"
    },
    {
     "data": {
      "image/png": "[encoded data removed]",
      "text/plain": [
       "<Figure size 432x288 with 1 Axes>"
      ]
     },
     "metadata": {
      "needs_background": "light"
     },
     "output_type": "display_data"
    }
   ],
   "source": [
    "plt.plot(x,y)\n",
    "plt.xlabel(\"x\")\n",
    "plt.ylabel(\"f (x)\")"
   ]
  },
  {
   "cell_type": "markdown",
   "id": "1a0a2c72",
   "metadata": {},
   "source": [
    "# **Numerical Integration 2**"
   ]
  },
  {
   "cell_type": "markdown",
   "id": "fa273334",
   "metadata": {},
   "source": [
    "Write a functionin pythontrap(f,a, b, N) which will evaluate the integral $\\int_{a}^{b}f(x)dx$ using the trapezoidal rule with Nsteps.Also develop a similar function simp(f,a, b, N) for the Simpson’s rule.Use t\n",
    "hese functions to evaluate thenumerical integralsin the subsequent problems, wherever applicable."
   ]
  },
  {
   "cell_type": "markdown",
   "id": "14ce0596",
   "metadata": {},
   "source": [
    "**Trapezoidal rule**"
   ]
  },
  {
   "cell_type": "code",
   "execution_count": 6,
   "id": "24c2131c",
   "metadata": {},
   "outputs": [],
   "source": [
    "def trap(f,a,b,N):\n",
    "    s=0\n",
    "    del_x=(b-a)/N\n",
    "    x=a\n",
    "    for i in range (N):\n",
    "        s+=0.5*(f(x+del_x)+f(x))*(del_x)\n",
    "        x=x+del_x\n",
    "        \n",
    "    return s    "
   ]
  },
  {
   "cell_type": "markdown",
   "id": "03746900",
   "metadata": {},
   "source": [
    "**Simpson's rule**"
   ]
  },
  {
   "cell_type": "code",
   "execution_count": 7,
   "id": "c641e228",
   "metadata": {},
   "outputs": [],
   "source": [
    "def simp(f,a,b,N):\n",
    "    s=0\n",
    "    del_x=(b-a)/N\n",
    "    x_left=a\n",
    "    x_right=x_left+del_x\n",
    "    \n",
    "    for i in range (N):\n",
    "        s+=(del_x)*(f(x_left)+4*f((x_left+x_right)/2)+f(x_right))/6\n",
    "        x_left=x_right\n",
    "        x_right+=del_x\n",
    "    return s"
   ]
  },
  {
   "cell_type": "markdown",
   "id": "fe9205db",
   "metadata": {},
   "source": [
    "**1) Integrating $f(x)=x^2$ from $x=-1$ to $x=1$**"
   ]
  },
  {
   "cell_type": "code",
   "execution_count": 8,
   "id": "1d516870",
   "metadata": {},
   "outputs": [],
   "source": [
    "def f1(x):\n",
    "    return x**2"
   ]
  },
  {
   "cell_type": "code",
   "execution_count": 9,
   "id": "ed1879a0",
   "metadata": {},
   "outputs": [
    {
     "name": "stdout",
     "output_type": "stream",
     "text": [
      "by simpson's method 0.6666666666666669\n",
      "by Trapezoidal rule is 0.6800000000000002\n"
     ]
    }
   ],
   "source": [
    "a=-1\n",
    "b=1\n",
    "print(f\"by simpson's method {simp(f1,a,b,10)}\")\n",
    "print(f\"by Trapezoidal rule is {trap(f1,a,b,10)}\")"
   ]
  },
  {
   "cell_type": "code",
   "execution_count": 10,
   "id": "95095ae6",
   "metadata": {},
   "outputs": [
    {
     "data": {
      "text/plain": [
       "Text(0, 0.5, 'relative error')"
      ]
     },
     "execution_count": 10,
     "metadata": {},
     "output_type": "execute_result"
    },
    {
     "data": {
      "image/png": "[encoded data removed]",
      "text/plain": [
       "<Figure size 432x288 with 1 Axes>"
      ]
     },
     "metadata": {
      "needs_background": "light"
     },
     "output_type": "display_data"
    }
   ],
   "source": [
    "error_trap=[]\n",
    "n=[]\n",
    "for i in range (10):\n",
    "    error_trap.append(abs(trap(f1,a,b,2**(i+1))-2/3)/(2/3))\n",
    "    n.append(2**(i+1))\n",
    "\n",
    "plt.loglog(n,error_trap)\n",
    "plt.xlabel(\"no. of steps\")\n",
    "plt.ylabel(\"relative error\")"
   ]
  },
  {
   "cell_type": "code",
   "execution_count": 11,
   "id": "8cd6f23e",
   "metadata": {},
   "outputs": [
    {
     "data": {
      "text/plain": [
       "Text(0, 0.5, 'relative error')"
      ]
     },
     "execution_count": 11,
     "metadata": {},
     "output_type": "execute_result"
    },
    {
     "data": {
      "image/png": "[encoded data removed]",
      "text/plain": [
       "<Figure size 432x288 with 1 Axes>"
      ]
     },
     "metadata": {
      "needs_background": "light"
     },
     "output_type": "display_data"
    }
   ],
   "source": [
    "error_simp=[]\n",
    "n=[]\n",
    "for i in range (3,10):\n",
    "    error_simp.append(-np.log(abs(simp(f1,a,b,2**(i+3))-2/3)/(2/3)))\n",
    "    n.append(2**(i+3))\n",
    "\n",
    "plt.xscale(\"log\")\n",
    "#plt.yscale(\"log\")\n",
    "plt.plot(n,error_simp)\n",
    "plt.xlabel(\"no. of steps\")\n",
    "plt.ylabel(\"relative error\")"
   ]
  },
  {
   "cell_type": "markdown",
   "id": "bfbc1771",
   "metadata": {},
   "source": [
    "here y scale is in log, since the error is close to 0, the log will be negative,"
   ]
  },
  {
   "cell_type": "markdown",
   "id": "744feec7",
   "metadata": {},
   "source": [
    "**2) Integrating $f(x)= \\sin(x)$ from $x=0$ to $x= \\pi$, Analytical answer= 2**"
   ]
  },
  {
   "cell_type": "code",
   "execution_count": 12,
   "id": "af96fffa",
   "metadata": {},
   "outputs": [
    {
     "name": "stdout",
     "output_type": "stream",
     "text": [
      "by simpson's method 2.0000000000000955\n",
      "by trapezoidal rule is 1.9835235375094546\n"
     ]
    }
   ],
   "source": [
    "def f2(x):\n",
    "    return np.sin(x)\n",
    "\n",
    "a=0\n",
    "b=np.pi\n",
    "print(f\"by simpson's method {simp(f2,a,b,1023)}\")\n",
    "print(f\"by trapezoidal rule is {trap(f2,a,b,10)}\")"
   ]
  },
  {
   "cell_type": "code",
   "execution_count": 13,
   "id": "0e748f76",
   "metadata": {},
   "outputs": [
    {
     "data": {
      "text/plain": [
       "Text(0, 0.5, 'relative error')"
      ]
     },
     "execution_count": 13,
     "metadata": {},
     "output_type": "execute_result"
    },
    {
     "data": {
      "image/png": "[encoded data removed]",
      "text/plain": [
       "<Figure size 432x288 with 1 Axes>"
      ]
     },
     "metadata": {
      "needs_background": "light"
     },
     "output_type": "display_data"
    }
   ],
   "source": [
    "error_trap=[]\n",
    "n=[]\n",
    "for i in range (10):\n",
    "    error_trap.append(abs(trap(f2,a,b,2**(i+1))-2)/2)\n",
    "    n.append(2**(i+1))\n",
    "\n",
    "plt.loglog(n,error_trap)\n",
    "plt.xlabel(\"no. of steps\")\n",
    "plt.ylabel(\"relative error\")"
   ]
  },
  {
   "cell_type": "code",
   "execution_count": 14,
   "id": "b2488b58",
   "metadata": {},
   "outputs": [
    {
     "data": {
      "text/plain": [
       "Text(0, 0.5, 'relative error')"
      ]
     },
     "execution_count": 14,
     "metadata": {},
     "output_type": "execute_result"
    },
    {
     "data": {
      "image/png": "[encoded data removed]",
      "text/plain": [
       "<Figure size 432x288 with 1 Axes>"
      ]
     },
     "metadata": {
      "needs_background": "light"
     },
     "output_type": "display_data"
    }
   ],
   "source": [
    "error_simp=[]\n",
    "n=[]\n",
    "for i in range (10):\n",
    "    error_simp.append(abs(simp(f2,a,b,2**(i+1))-2)/2)\n",
    "    n.append(2**(i+1))\n",
    "\n",
    "plt.loglog(n,error_simp)\n",
    "plt.xlabel(\"no. of steps\")\n",
    "plt.ylabel(\"relative error\")"
   ]
  },
  {
   "cell_type": "markdown",
   "id": "1293d9e8",
   "metadata": {},
   "source": [
    "**3) Integrating $f(x)=\\left(\\frac{\\sin(x)}{x}\\right)^2$ from $x=0$ to $x=\\infty$, Analytical answer is $\\frac{\\pi}{2}$**"
   ]
  },
  {
   "cell_type": "code",
   "execution_count": 15,
   "id": "1bebc8f5",
   "metadata": {},
   "outputs": [
    {
     "name": "stdout",
     "output_type": "stream",
     "text": [
      "by simpson's method 1.5658182777144996\n",
      "by trapezoidal rule is 1.5658182769824784\n"
     ]
    }
   ],
   "source": [
    "def f3(x):\n",
    "    if(x==0):\n",
    "        return 1\n",
    "    else:\n",
    "        return (np.sin(x)/x)**2\n",
    "\n",
    "a=0\n",
    "b=100\n",
    "print(f\"by simpson's method {simp(f3,a,b,10000)}\")\n",
    "print(f\"by trapezoidal rule is {trap(f3,a,b,10000)}\")"
   ]
  },
  {
   "cell_type": "code",
   "execution_count": 16,
   "id": "3bdbb89f",
   "metadata": {},
   "outputs": [
    {
     "data": {
      "text/plain": [
       "Text(0, 0.5, 'relative error')"
      ]
     },
     "execution_count": 16,
     "metadata": {},
     "output_type": "execute_result"
    },
    {
     "data": {
      "image/png": "[encoded data removed]",
      "text/plain": [
       "<Figure size 432x288 with 1 Axes>"
      ]
     },
     "metadata": {
      "needs_background": "light"
     },
     "output_type": "display_data"
    }
   ],
   "source": [
    "error_trap=[]\n",
    "n3=[]\n",
    "for i in range (5):\n",
    "    error_trap.append(abs(trap(f3,a,b,2**(i))-np.pi/2)/(np.pi/2))\n",
    "    n3.append(2**(i))\n",
    "\n",
    "plt.xscale(\"log\")\n",
    "plt.yscale(\"log\")\n",
    "plt.plot(n3,error_trap)\n",
    "plt.xlabel(\"no. of steps\")\n",
    "plt.ylabel(\"relative error\")"
   ]
  },
  {
   "cell_type": "code",
   "execution_count": 17,
   "id": "5f039a65",
   "metadata": {},
   "outputs": [
    {
     "data": {
      "text/plain": [
       "Text(0, 0.5, 'relative error')"
      ]
     },
     "execution_count": 17,
     "metadata": {},
     "output_type": "execute_result"
    },
    {
     "data": {
      "image/png": "[encoded data removed]",
      "text/plain": [
       "<Figure size 432x288 with 1 Axes>"
      ]
     },
     "metadata": {
      "needs_background": "light"
     },
     "output_type": "display_data"
    }
   ],
   "source": [
    "error_simp=[]\n",
    "n=[]\n",
    "for i in range (5):\n",
    "    error_simp.append(abs(simp(f3,a,b,2**(i))-np.pi/2)/np.pi/2)\n",
    "    n.append(2**(i+1))\n",
    "\n",
    "plt.loglog(n,error_simp)\n",
    "plt.xlabel(\"no. of steps\")\n",
    "plt.ylabel(\"relative error\")"
   ]
  },
  {
   "cell_type": "markdown",
   "id": "75eb11c1",
   "metadata": {},
   "source": [
    "# Numerical Integration 4 "
   ]
  },
  {
   "cell_type": "markdown",
   "id": "aea07df1",
   "metadata": {},
   "source": [
    "We consider the bound 1-D motion of a particle of mass min a time independent potential $V(x)$. The fact that the energy Ewill be conserved allows us to integrate the equation of motion and obtain a solution in closed form. The time period of the oscillation T is given by\n",
    "$$T=\\int_{a}^{b}\\frac{\\sqrt{2m}}{\\sqrt{E-V(x)}}dx$$\n",
    "Where the limits a and b are obtained by solving $V(x)=E, a<x<b.$ "
   ]
  },
  {
   "cell_type": "markdown",
   "id": "578de188",
   "metadata": {},
   "source": [
    "# a)"
   ]
  },
  {
   "cell_type": "markdown",
   "id": "596f7143",
   "metadata": {},
   "source": [
    "solving $E=V(x)$ we get $a$ and $b$ to be $\\frac{+1}{\\omega_o}\\sqrt{\\frac{2E}{m}}$ and $\\frac{-1}{\\omega_o}\\sqrt{\\frac{2E}{m}}$ respectively\n",
    "\n",
    "given $$V(x)=\\frac{1}{2}m\\omega_o^2x^2$$ where $m=1 Kg, \\omega_o=2\\pi sec^{-1}$\n",
    "\n",
    "substituting $y=\\frac{x}{\\sqrt{\\frac{2E}{m\\omega_o^2}}}$, we replace the limit of integrals as follows, $a$ by $-1$ and $b$ by $+1$, the integral reduces to \n",
    "$$T\\omega_o=\\int_{-1}^{+1}\\frac{2}{\\sqrt{1-y^2}}dy$$\n"
   ]
  },
  {
   "cell_type": "markdown",
   "id": "85aad5af",
   "metadata": {},
   "source": [
    "Now solving this numerically from a value of $-1+\\epsilon$  to $1-\\epsilon$ we get the time period"
   ]
  },
  {
   "cell_type": "markdown",
   "id": "8528125f",
   "metadata": {},
   "source": [
    "*The expected value is $1$ sec, so the value we obtained is very close to the actual value*"
   ]
  },
  {
   "cell_type": "code",
   "execution_count": 18,
   "id": "77b62773",
   "metadata": {},
   "outputs": [],
   "source": [
    "def trap(f,a,b,N):\n",
    "    s=0\n",
    "    del_x=(b-a)/N\n",
    "    x=a\n",
    "    for i in range (N):\n",
    "        s+=0.5*(f(x+del_x)+f(x))*(del_x)\n",
    "        x=x+del_x\n",
    "        \n",
    "    return s    "
   ]
  },
  {
   "cell_type": "code",
   "execution_count": 19,
   "id": "eab80a34",
   "metadata": {},
   "outputs": [],
   "source": [
    "def integral(x):\n",
    "    return (2)/((1-x**2)**0.5)\n"
   ]
  },
  {
   "cell_type": "code",
   "execution_count": 20,
   "id": "a7b2dda7",
   "metadata": {},
   "outputs": [
    {
     "data": {
      "text/plain": [
       "Text(0, 0.5, 'Time period')"
      ]
     },
     "execution_count": 20,
     "metadata": {},
     "output_type": "execute_result"
    },
    {
     "data": {
      "image/png": "[encoded data removed]",
      "text/plain": [
       "<Figure size 432x288 with 1 Axes>"
      ]
     },
     "metadata": {
      "needs_background": "light"
     },
     "output_type": "display_data"
    }
   ],
   "source": [
    "e=[]\n",
    "T=[]\n",
    "for i in range(1,10):\n",
    "    epsilon=10**(-i)\n",
    "    \n",
    "    e.append(epsilon)\n",
    "    T.append(trap(integral,-1+epsilon,1-epsilon,10000)/(2*np.pi))\n",
    "plt.loglog(e,T)\n",
    "plt.xlabel(\"epsilon\")\n",
    "plt.ylabel(\"Time period\")"
   ]
  },
  {
   "cell_type": "markdown",
   "id": "8dc34ccf",
   "metadata": {},
   "source": [
    "taking $\\epsilon=10^{-4}$"
   ]
  },
  {
   "cell_type": "code",
   "execution_count": 21,
   "id": "e72f1f85",
   "metadata": {},
   "outputs": [
    {
     "name": "stdout",
     "output_type": "stream",
     "text": [
      "0.9916473033892338\n"
     ]
    }
   ],
   "source": [
    "epsilon=1e-4\n",
    "Time_period=(trap(integral,-1+epsilon,1-epsilon,10000)/(2*np.pi))\n",
    "print(Time_period)"
   ]
  },
  {
   "cell_type": "markdown",
   "id": "693a3219",
   "metadata": {},
   "source": [
    "The time period that we calculated is $0.9916$ seconds which is very close to the analytical value of 1 second"
   ]
  },
  {
   "cell_type": "markdown",
   "id": "2f2bf7a7",
   "metadata": {},
   "source": [
    "# b)"
   ]
  },
  {
   "cell_type": "markdown",
   "id": "824cfd72",
   "metadata": {},
   "source": [
    "Given $$V(x)=\\frac{m\\omega_o^2L^2}{2}[e^{\\frac{x^2}{L^2}}-1]$$\n",
    "equating $E=V(a)$, and putting E in the equation, we get the final integral as \n",
    "$$T=\\frac{1}{5\\pi}\\int_{-A}^{A}\\frac{dx}{\\sqrt{e^{\\frac{A^2}{L^2}} - e^{\\frac{x^2}{L^2}}}}$$\n",
    "where $A$ is the amplitude"
   ]
  },
  {
   "cell_type": "code",
   "execution_count": 22,
   "id": "2b9246f6",
   "metadata": {},
   "outputs": [],
   "source": [
    "def trap_b(f,A,a,b,N):\n",
    "    s=0\n",
    "    del_x=(b-a)/N\n",
    "    x=a\n",
    "    for i in range (N):\n",
    "        s+=0.5*(f(x+del_x,A)+f(x,A))*(del_x)\n",
    "        x=x+del_x\n",
    "        \n",
    "    return s    "
   ]
  },
  {
   "cell_type": "code",
   "execution_count": 23,
   "id": "2ab19323",
   "metadata": {},
   "outputs": [],
   "source": [
    "def time(x,A):\n",
    "    return 1/(5*np.pi*(np.e**(A**2/25)-np.e**(x**2/25))**0.5)"
   ]
  },
  {
   "cell_type": "markdown",
   "id": "c7be2e85",
   "metadata": {},
   "source": [
    "taking epsilon as $\\epsilon=10^{-2}$"
   ]
  },
  {
   "cell_type": "code",
   "execution_count": 24,
   "id": "8f16871c",
   "metadata": {},
   "outputs": [],
   "source": [
    "A=np.linspace(1e-5,15,num=20)\n",
    "epsilon=1e-4\n",
    "T=[]\n",
    "for i in range (20):\n",
    "    time_period=trap_b(time,A[i],-A[i]+A[i]*epsilon,A[i]-A[i]*epsilon,10000)\n",
    "    T.append(time_period)"
   ]
  },
  {
   "cell_type": "code",
   "execution_count": 25,
   "id": "3161120d",
   "metadata": {},
   "outputs": [
    {
     "data": {
      "text/plain": [
       "Text(0, 0.5, 'Time period')"
      ]
     },
     "execution_count": 25,
     "metadata": {},
     "output_type": "execute_result"
    },
    {
     "data": {
      "image/png": "[encoded data removed]",
      "text/plain": [
       "<Figure size 432x288 with 1 Axes>"
      ]
     },
     "metadata": {
      "needs_background": "light"
     },
     "output_type": "display_data"
    }
   ],
   "source": [
    "plt.plot(A,T)\n",
    "plt.xlabel('Amplitude')\n",
    "plt.ylabel('Time period')"
   ]
  },
  {
   "cell_type": "markdown",
   "id": "6b3e93e5",
   "metadata": {},
   "source": [
    "We can see that for small amplitudes the time period is constant"
   ]
  },
  {
   "cell_type": "code",
   "execution_count": null,
   "id": "88aee30f",
   "metadata": {},
   "outputs": [],
   "source": []
  }
 ],
 "metadata": {
  "kernelspec": {
   "display_name": "Python 3 (ipykernel)",
   "language": "python",
   "name": "python3"
  },
  "language_info": {
   "codemirror_mode": {
    "name": "ipython",
    "version": 3
   },
   "file_extension": ".py",
   "mimetype": "text/x-python",
   "name": "python",
   "nbconvert_exporter": "python",
   "pygments_lexer": "ipython3",
   "version": "3.9.12"
  }
 },
 "nbformat": 4,
 "nbformat_minor": 5
}
