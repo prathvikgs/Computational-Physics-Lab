{
 "cells": [
  {
   "cell_type": "markdown",
   "id": "857ae863",
   "metadata": {},
   "source": [
    "# $$Computational Physics Lab-4$$"
   ]
  },
  {
   "cell_type": "code",
   "execution_count": 1,
   "id": "248edbb1",
   "metadata": {},
   "outputs": [],
   "source": [
    "import numpy as np\n",
    "import matplotlib.pyplot as plt\n",
    "import pandas as pd"
   ]
  },
  {
   "cell_type": "markdown",
   "id": "348c56b6",
   "metadata": {},
   "source": [
    "# 1) Guass-Seidel method"
   ]
  },
  {
   "cell_type": "markdown",
   "id": "07a39514",
   "metadata": {},
   "source": [
    "***a) Write a code to see if a matrix is diaoganally dominant***"
   ]
  },
  {
   "cell_type": "code",
   "execution_count": 2,
   "id": "fb01241e",
   "metadata": {},
   "outputs": [],
   "source": [
    "def dominant(a):\n",
    "    m,n=np.shape(a)\n",
    "    flag=0\n",
    "    for i in range(m):\n",
    "        if((np.sum(abs(a[i]))-abs(a[i][i]))>abs(a[i][i])):\n",
    "            print(f\"Not strictly diagonally dominant on row {i+1}\")\n",
    "            flag=-1\n",
    "      \n",
    "    if(flag==0):\n",
    "        return 'Dominant Matrix'"
   ]
  },
  {
   "cell_type": "code",
   "execution_count": 3,
   "id": "93c5b791",
   "metadata": {},
   "outputs": [],
   "source": [
    "A=np.array([[-6,2,1,2,1],[3,8,-4,1,0],[-1,1,4,10,1],[3,-4,1,9,2],[2,0,1,3,10]])"
   ]
  },
  {
   "cell_type": "code",
   "execution_count": 4,
   "id": "36a7dca0",
   "metadata": {},
   "outputs": [
    {
     "name": "stdout",
     "output_type": "stream",
     "text": [
      "Not strictly diagonally dominant on row 3\n",
      "Not strictly diagonally dominant on row 4\n"
     ]
    }
   ],
   "source": [
    "dominant(A)"
   ]
  },
  {
   "cell_type": "markdown",
   "id": "e1160748",
   "metadata": {},
   "source": [
    "***b) Write a code for solving this equation using Gauss-Seidel method in which the convergence is achieved if error limit in successive iteration is within 0.001.***"
   ]
  },
  {
   "cell_type": "code",
   "execution_count": 5,
   "id": "da2b6abc",
   "metadata": {},
   "outputs": [],
   "source": [
    "def guass_sidel(A,b,x):\n",
    "    n=len(b)\n",
    "    error=1\n",
    "    x_prev=x\n",
    "    \n",
    "    while(error>1e-3):\n",
    "        for i in range(n):\n",
    "            x_prev=np.copy(x)\n",
    "            s=0\n",
    "            for j in range(n):\n",
    "                if(i!=j):\n",
    "                    s+=A[i][j]*x[j]\n",
    "            \n",
    "            x[i]=(b[i]-s)/A[i][i]\n",
    "        error=max(abs(x_prev-x))\n",
    "                   \n",
    "    return x"
   ]
  },
  {
   "cell_type": "code",
   "execution_count": 6,
   "id": "60855894",
   "metadata": {},
   "outputs": [],
   "source": [
    "A=np.array([[-6,2,1,2,1],[3,8,-4,1,0],[-1,1,4,10,1],[3,-4,1,9,2],[2,0,1,3,10]])\n",
    "b=np.array([3,4,-2,12,1])\n",
    "x=np.zeros(len(b))"
   ]
  },
  {
   "cell_type": "code",
   "execution_count": 7,
   "id": "5805d238",
   "metadata": {},
   "outputs": [
    {
     "name": "stdout",
     "output_type": "stream",
     "text": [
      "[-1.11670559 -1.38589074 -4.25432104  1.49576091  0.30004495]\n"
     ]
    }
   ],
   "source": [
    "print(guass_sidel(A,b,x))"
   ]
  },
  {
   "cell_type": "markdown",
   "id": "6fb66dbf",
   "metadata": {},
   "source": [
    "*Comparing it with the solution obtained by using $$x=A^{-1}b$$*"
   ]
  },
  {
   "cell_type": "code",
   "execution_count": 8,
   "id": "a6bd71ac",
   "metadata": {},
   "outputs": [
    {
     "name": "stdout",
     "output_type": "stream",
     "text": [
      "[-1.1222592  -1.3890687  -4.24606829  1.49505402  0.30054246]\n"
     ]
    }
   ],
   "source": [
    "print(np.dot(np.linalg.inv(A),b))"
   ]
  },
  {
   "cell_type": "markdown",
   "id": "5222e819",
   "metadata": {},
   "source": [
    "# 2)**Linear Interpolation 1**"
   ]
  },
  {
   "cell_type": "markdown",
   "id": "4ed819a5",
   "metadata": {},
   "source": [
    "***Given the three data points (x, y) = (1.0, 8.0), (2.1,\n",
    "20.6) and (5.0, 13.7), write a program to return the value of y for any arbitrary x\n",
    "in the range [1.0, 5.0] using two-point linear interpolation.***"
   ]
  },
  {
   "cell_type": "markdown",
   "id": "862c4984",
   "metadata": {},
   "source": [
    "***Plotting the points on the graph***"
   ]
  },
  {
   "cell_type": "code",
   "execution_count": 9,
   "id": "f2507372",
   "metadata": {},
   "outputs": [
    {
     "data": {
      "text/plain": [
       "<matplotlib.collections.PathCollection at 0x28347aaeca0>"
      ]
     },
     "execution_count": 9,
     "metadata": {},
     "output_type": "execute_result"
    },
    {
     "data": {
      "image/png": "[encoded data removed]",
      "text/plain": [
       "<Figure size 432x288 with 1 Axes>"
      ]
     },
     "metadata": {
      "needs_background": "light"
     },
     "output_type": "display_data"
    }
   ],
   "source": [
    "x=[1.0,2.1,5.0]\n",
    "y=[8.0,20.6,13.7]\n",
    "plt.scatter(x,y)"
   ]
  },
  {
   "cell_type": "markdown",
   "id": "ca2fddb2",
   "metadata": {},
   "source": [
    "***Linear Interpolation function***"
   ]
  },
  {
   "cell_type": "code",
   "execution_count": 10,
   "id": "02d6986f",
   "metadata": {},
   "outputs": [],
   "source": [
    "def linear_interpolation1(x,y,x_in):\n",
    "    for i in range(3):\n",
    "        j=1-i\n",
    "        if(x_in>=x[j]):\n",
    "            return (x_in-x[j])*((y[j+1]-y[j])/(x[j+1]-x[j]))+y[j]"
   ]
  },
  {
   "cell_type": "code",
   "execution_count": 11,
   "id": "6ca59cd1",
   "metadata": {},
   "outputs": [
    {
     "data": {
      "text/plain": [
       "[<matplotlib.lines.Line2D at 0x28348268910>]"
      ]
     },
     "execution_count": 11,
     "metadata": {},
     "output_type": "execute_result"
    },
    {
     "data": {
      "image/png": "[encoded data removed]",
      "text/plain": [
       "<Figure size 432x288 with 1 Axes>"
      ]
     },
     "metadata": {
      "needs_background": "light"
     },
     "output_type": "display_data"
    }
   ],
   "source": [
    "x_out=np.linspace(1,5,50)\n",
    "y_out=np.zeros(50)\n",
    "for i in range(len(x_out)):\n",
    "    y_out[i]=linear_interpolation1(x,y,x_out[i])\n",
    "    \n",
    "plt.plot(x_out,y_out)"
   ]
  },
  {
   "cell_type": "markdown",
   "id": "dd3056c9",
   "metadata": {},
   "source": [
    "***Cross checking with in-built function for 2 point linear interpolation***"
   ]
  },
  {
   "cell_type": "code",
   "execution_count": 12,
   "id": "d6679e6b",
   "metadata": {},
   "outputs": [
    {
     "data": {
      "text/plain": [
       "[<matplotlib.lines.Line2D at 0x283498c6580>]"
      ]
     },
     "execution_count": 12,
     "metadata": {},
     "output_type": "execute_result"
    },
    {
     "data": {
      "image/png": "[encoded data removed]",
      "text/plain": [
       "<Figure size 432x288 with 1 Axes>"
      ]
     },
     "metadata": {
      "needs_background": "light"
     },
     "output_type": "display_data"
    }
   ],
   "source": [
    "from scipy.interpolate import interp1d\n",
    "y_out=interp1d(x,y)\n",
    "x_g=np.linspace(1,5,num=50)\n",
    "y_g=y_out(x_g)\n",
    "plt.plot(x_g,y_g)"
   ]
  },
  {
   "cell_type": "markdown",
   "id": "efa711eb",
   "metadata": {},
   "source": [
    "# 3) Linear Interpolation 2"
   ]
  },
  {
   "cell_type": "markdown",
   "id": "61a57acc",
   "metadata": {},
   "source": [
    "***Given data***"
   ]
  },
  {
   "cell_type": "code",
   "execution_count": 13,
   "id": "fd6484de",
   "metadata": {},
   "outputs": [
    {
     "data": {
      "text/html": [
       "<div>\n",
       "<style scoped>\n",
       "    .dataframe tbody tr th:only-of-type {\n",
       "        vertical-align: middle;\n",
       "    }\n",
       "\n",
       "    .dataframe tbody tr th {\n",
       "        vertical-align: top;\n",
       "    }\n",
       "\n",
       "    .dataframe thead th {\n",
       "        text-align: right;\n",
       "    }\n",
       "</style>\n",
       "<table border=\"1\" class=\"dataframe\">\n",
       "  <thead>\n",
       "    <tr style=\"text-align: right;\">\n",
       "      <th></th>\n",
       "      <th>x</th>\n",
       "      <th>y</th>\n",
       "    </tr>\n",
       "  </thead>\n",
       "  <tbody>\n",
       "    <tr>\n",
       "      <th>0</th>\n",
       "      <td>1.0</td>\n",
       "      <td>1.45</td>\n",
       "    </tr>\n",
       "    <tr>\n",
       "      <th>1</th>\n",
       "      <td>1.1</td>\n",
       "      <td>1.50</td>\n",
       "    </tr>\n",
       "    <tr>\n",
       "      <th>2</th>\n",
       "      <td>1.2</td>\n",
       "      <td>1.55</td>\n",
       "    </tr>\n",
       "    <tr>\n",
       "      <th>3</th>\n",
       "      <td>1.3</td>\n",
       "      <td>1.60</td>\n",
       "    </tr>\n",
       "    <tr>\n",
       "      <th>4</th>\n",
       "      <td>1.4</td>\n",
       "      <td>1.65</td>\n",
       "    </tr>\n",
       "    <tr>\n",
       "      <th>5</th>\n",
       "      <td>1.5</td>\n",
       "      <td>1.71</td>\n",
       "    </tr>\n",
       "    <tr>\n",
       "      <th>6</th>\n",
       "      <td>1.6</td>\n",
       "      <td>1.76</td>\n",
       "    </tr>\n",
       "    <tr>\n",
       "      <th>7</th>\n",
       "      <td>1.7</td>\n",
       "      <td>1.82</td>\n",
       "    </tr>\n",
       "    <tr>\n",
       "      <th>8</th>\n",
       "      <td>1.8</td>\n",
       "      <td>1.88</td>\n",
       "    </tr>\n",
       "    <tr>\n",
       "      <th>9</th>\n",
       "      <td>1.9</td>\n",
       "      <td>1.94</td>\n",
       "    </tr>\n",
       "    <tr>\n",
       "      <th>10</th>\n",
       "      <td>2.0</td>\n",
       "      <td>2.00</td>\n",
       "    </tr>\n",
       "    <tr>\n",
       "      <th>11</th>\n",
       "      <td>2.1</td>\n",
       "      <td>2.06</td>\n",
       "    </tr>\n",
       "    <tr>\n",
       "      <th>12</th>\n",
       "      <td>2.2</td>\n",
       "      <td>2.12</td>\n",
       "    </tr>\n",
       "    <tr>\n",
       "      <th>13</th>\n",
       "      <td>2.3</td>\n",
       "      <td>2.18</td>\n",
       "    </tr>\n",
       "    <tr>\n",
       "      <th>14</th>\n",
       "      <td>2.4</td>\n",
       "      <td>2.24</td>\n",
       "    </tr>\n",
       "    <tr>\n",
       "      <th>15</th>\n",
       "      <td>2.5</td>\n",
       "      <td>2.31</td>\n",
       "    </tr>\n",
       "    <tr>\n",
       "      <th>16</th>\n",
       "      <td>2.6</td>\n",
       "      <td>2.37</td>\n",
       "    </tr>\n",
       "    <tr>\n",
       "      <th>17</th>\n",
       "      <td>2.7</td>\n",
       "      <td>2.44</td>\n",
       "    </tr>\n",
       "    <tr>\n",
       "      <th>18</th>\n",
       "      <td>2.8</td>\n",
       "      <td>2.51</td>\n",
       "    </tr>\n",
       "    <tr>\n",
       "      <th>19</th>\n",
       "      <td>2.9</td>\n",
       "      <td>2.58</td>\n",
       "    </tr>\n",
       "    <tr>\n",
       "      <th>20</th>\n",
       "      <td>3.0</td>\n",
       "      <td>2.65</td>\n",
       "    </tr>\n",
       "    <tr>\n",
       "      <th>21</th>\n",
       "      <td>3.1</td>\n",
       "      <td>2.72</td>\n",
       "    </tr>\n",
       "    <tr>\n",
       "      <th>22</th>\n",
       "      <td>3.2</td>\n",
       "      <td>2.79</td>\n",
       "    </tr>\n",
       "    <tr>\n",
       "      <th>23</th>\n",
       "      <td>3.3</td>\n",
       "      <td>2.86</td>\n",
       "    </tr>\n",
       "    <tr>\n",
       "      <th>24</th>\n",
       "      <td>3.4</td>\n",
       "      <td>2.93</td>\n",
       "    </tr>\n",
       "    <tr>\n",
       "      <th>25</th>\n",
       "      <td>3.5</td>\n",
       "      <td>3.01</td>\n",
       "    </tr>\n",
       "    <tr>\n",
       "      <th>26</th>\n",
       "      <td>3.6</td>\n",
       "      <td>3.08</td>\n",
       "    </tr>\n",
       "    <tr>\n",
       "      <th>27</th>\n",
       "      <td>3.7</td>\n",
       "      <td>3.16</td>\n",
       "    </tr>\n",
       "    <tr>\n",
       "      <th>28</th>\n",
       "      <td>3.8</td>\n",
       "      <td>3.24</td>\n",
       "    </tr>\n",
       "    <tr>\n",
       "      <th>29</th>\n",
       "      <td>3.9</td>\n",
       "      <td>3.32</td>\n",
       "    </tr>\n",
       "    <tr>\n",
       "      <th>30</th>\n",
       "      <td>4.0</td>\n",
       "      <td>3.40</td>\n",
       "    </tr>\n",
       "    <tr>\n",
       "      <th>31</th>\n",
       "      <td>4.1</td>\n",
       "      <td>3.48</td>\n",
       "    </tr>\n",
       "    <tr>\n",
       "      <th>32</th>\n",
       "      <td>4.2</td>\n",
       "      <td>3.56</td>\n",
       "    </tr>\n",
       "    <tr>\n",
       "      <th>33</th>\n",
       "      <td>4.3</td>\n",
       "      <td>3.64</td>\n",
       "    </tr>\n",
       "    <tr>\n",
       "      <th>34</th>\n",
       "      <td>4.4</td>\n",
       "      <td>3.72</td>\n",
       "    </tr>\n",
       "    <tr>\n",
       "      <th>35</th>\n",
       "      <td>4.5</td>\n",
       "      <td>3.81</td>\n",
       "    </tr>\n",
       "    <tr>\n",
       "      <th>36</th>\n",
       "      <td>4.6</td>\n",
       "      <td>3.89</td>\n",
       "    </tr>\n",
       "    <tr>\n",
       "      <th>37</th>\n",
       "      <td>4.7</td>\n",
       "      <td>3.98</td>\n",
       "    </tr>\n",
       "    <tr>\n",
       "      <th>38</th>\n",
       "      <td>4.8</td>\n",
       "      <td>4.07</td>\n",
       "    </tr>\n",
       "    <tr>\n",
       "      <th>39</th>\n",
       "      <td>4.9</td>\n",
       "      <td>4.16</td>\n",
       "    </tr>\n",
       "    <tr>\n",
       "      <th>40</th>\n",
       "      <td>5.0</td>\n",
       "      <td>4.25</td>\n",
       "    </tr>\n",
       "  </tbody>\n",
       "</table>\n",
       "</div>"
      ],
      "text/plain": [
       "      x     y\n",
       "0   1.0  1.45\n",
       "1   1.1  1.50\n",
       "2   1.2  1.55\n",
       "3   1.3  1.60\n",
       "4   1.4  1.65\n",
       "5   1.5  1.71\n",
       "6   1.6  1.76\n",
       "7   1.7  1.82\n",
       "8   1.8  1.88\n",
       "9   1.9  1.94\n",
       "10  2.0  2.00\n",
       "11  2.1  2.06\n",
       "12  2.2  2.12\n",
       "13  2.3  2.18\n",
       "14  2.4  2.24\n",
       "15  2.5  2.31\n",
       "16  2.6  2.37\n",
       "17  2.7  2.44\n",
       "18  2.8  2.51\n",
       "19  2.9  2.58\n",
       "20  3.0  2.65\n",
       "21  3.1  2.72\n",
       "22  3.2  2.79\n",
       "23  3.3  2.86\n",
       "24  3.4  2.93\n",
       "25  3.5  3.01\n",
       "26  3.6  3.08\n",
       "27  3.7  3.16\n",
       "28  3.8  3.24\n",
       "29  3.9  3.32\n",
       "30  4.0  3.40\n",
       "31  4.1  3.48\n",
       "32  4.2  3.56\n",
       "33  4.3  3.64\n",
       "34  4.4  3.72\n",
       "35  4.5  3.81\n",
       "36  4.6  3.89\n",
       "37  4.7  3.98\n",
       "38  4.8  4.07\n",
       "39  4.9  4.16\n",
       "40  5.0  4.25"
      ]
     },
     "execution_count": 13,
     "metadata": {},
     "output_type": "execute_result"
    }
   ],
   "source": [
    "data =pd.read_csv(\"points.txt\")\n",
    "data"
   ]
  },
  {
   "cell_type": "markdown",
   "id": "51121e48",
   "metadata": {},
   "source": [
    "***Plotting the given points***"
   ]
  },
  {
   "cell_type": "code",
   "execution_count": 14,
   "id": "19f05f99",
   "metadata": {},
   "outputs": [
    {
     "data": {
      "text/plain": [
       "<matplotlib.collections.PathCollection at 0x2834996bf70>"
      ]
     },
     "execution_count": 14,
     "metadata": {},
     "output_type": "execute_result"
    },
    {
     "data": {
      "image/png": "[encoded data removed]",
      "text/plain": [
       "<Figure size 432x288 with 1 Axes>"
      ]
     },
     "metadata": {
      "needs_background": "light"
     },
     "output_type": "display_data"
    }
   ],
   "source": [
    "x=data.iloc[:,0]\n",
    "y=data.iloc[:,1]\n",
    "plt.scatter(x,y)"
   ]
  },
  {
   "cell_type": "code",
   "execution_count": 15,
   "id": "3a6e3da2",
   "metadata": {},
   "outputs": [],
   "source": [
    "def linear_interpolation2(x,y,x_in):\n",
    "    for i in range(len(x)):\n",
    "        j=len(x)-2-i\n",
    "        if(x_in>=x[j]):\n",
    "            return (x_in-x[j])*((y[j+1]-y[j])/(x[j+1]-x[j]))+y[j]"
   ]
  },
  {
   "cell_type": "code",
   "execution_count": 16,
   "id": "ac4eb877",
   "metadata": {},
   "outputs": [
    {
     "data": {
      "text/plain": [
       "[<matplotlib.lines.Line2D at 0x283499dfc70>]"
      ]
     },
     "execution_count": 16,
     "metadata": {},
     "output_type": "execute_result"
    },
    {
     "data": {
      "image/png": "[encoded data removed]",
      "text/plain": [
       "<Figure size 432x288 with 1 Axes>"
      ]
     },
     "metadata": {
      "needs_background": "light"
     },
     "output_type": "display_data"
    }
   ],
   "source": [
    "x_out2=np.linspace(1,5,50)\n",
    "y_out2=np.zeros(50)\n",
    "for i in range(len(x_out2)):\n",
    "    y_out2[i]=linear_interpolation2(x,y,x_out2[i])\n",
    "\n",
    "plt.plot(x_out2,y_out2)"
   ]
  },
  {
   "cell_type": "markdown",
   "id": "5b4f18e6",
   "metadata": {},
   "source": [
    "***Cross checking wiht the inbuit scipy function for interpolation***"
   ]
  },
  {
   "cell_type": "code",
   "execution_count": 17,
   "id": "05720fcf",
   "metadata": {},
   "outputs": [
    {
     "data": {
      "text/plain": [
       "[<matplotlib.lines.Line2D at 0x28349a4ce50>]"
      ]
     },
     "execution_count": 17,
     "metadata": {},
     "output_type": "execute_result"
    },
    {
     "data": {
      "image/png": "[encoded data removed]",
      "text/plain": [
       "<Figure size 432x288 with 1 Axes>"
      ]
     },
     "metadata": {
      "needs_background": "light"
     },
     "output_type": "display_data"
    }
   ],
   "source": [
    "from scipy.interpolate import interp1d\n",
    "y_out=interp1d(x,y)\n",
    "x_g=np.linspace(1,5,num=100)\n",
    "y_g=y_out(x_g)\n",
    "plt.plot(x_g,y_g)"
   ]
  }
 ],
 "metadata": {
  "kernelspec": {
   "display_name": "Python 3 (ipykernel)",
   "language": "python",
   "name": "python3"
  },
  "language_info": {
   "codemirror_mode": {
    "name": "ipython",
    "version": 3
   },
   "file_extension": ".py",
   "mimetype": "text/x-python",
   "name": "python",
   "nbconvert_exporter": "python",
   "pygments_lexer": "ipython3",
   "version": "3.9.12"
  }
 },
 "nbformat": 4,
 "nbformat_minor": 5
}
